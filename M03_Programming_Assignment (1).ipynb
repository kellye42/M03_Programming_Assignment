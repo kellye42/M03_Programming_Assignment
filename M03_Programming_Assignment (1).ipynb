{
 "cells": [
  {
   "cell_type": "code",
   "execution_count": 1,
   "id": "770f20d9",
   "metadata": {},
   "outputs": [
    {
     "name": "stdout",
     "output_type": "stream",
     "text": [
      "['mozzerella', 'Cinderella', 'salmonella']\n",
      "['MOZZERELLA', 'Cinderella', 'salmonella']\n",
      "['MOZZERELLA', 'Cinderella']\n"
     ]
    }
   ],
   "source": [
    "things = [\"mozzerella\", \"cinderella\", \"salmonella\"]\n",
    "things[1] = \"Cinderella\"\n",
    "print(things)\n",
    "things[0] = \"MOZZERELLA\"\n",
    "print(things)\n",
    "things.remove(\"salmonella\")\n",
    "print(things)"
   ]
  },
  {
   "cell_type": "code",
   "execution_count": 2,
   "id": "51614066",
   "metadata": {},
   "outputs": [
    {
     "data": {
      "text/plain": [
       "['Ron', 'Harry', 'Hermione']"
      ]
     },
     "execution_count": 2,
     "metadata": {},
     "output_type": "execute_result"
    }
   ],
   "source": [
    "def good():\n",
    "    list = ['Ron', 'Harry', 'Hermione']\n",
    "    return list\n",
    "good()"
   ]
  },
  {
   "cell_type": "code",
   "execution_count": 3,
   "id": "0d00a86f",
   "metadata": {},
   "outputs": [
    {
     "name": "stdout",
     "output_type": "stream",
     "text": [
      "5\n"
     ]
    }
   ],
   "source": [
    "def get_odds():\n",
    "    odds = []\n",
    "    for num in range(10):\n",
    "        if num % 2:\n",
    "            odds.append(num)\n",
    "    yield odds\n",
    "odd_list = get_odds()\n",
    "for odd in odd_list:\n",
    "    print(odd[2])"
   ]
  },
  {
   "cell_type": "code",
   "execution_count": null,
   "id": "8cb6ef2c",
   "metadata": {},
   "outputs": [],
   "source": []
  }
 ],
 "metadata": {
  "kernelspec": {
   "display_name": "Python 3 (ipykernel)",
   "language": "python",
   "name": "python3"
  },
  "language_info": {
   "codemirror_mode": {
    "name": "ipython",
    "version": 3
   },
   "file_extension": ".py",
   "mimetype": "text/x-python",
   "name": "python",
   "nbconvert_exporter": "python",
   "pygments_lexer": "ipython3",
   "version": "3.9.13"
  }
 },
 "nbformat": 4,
 "nbformat_minor": 5
}
