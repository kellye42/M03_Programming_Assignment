{
 "cells": [
  {
   "cell_type": "code",
   "execution_count": 1,
   "id": "770f20d9",
   "metadata": {},
   "outputs": [
    {
     "name": "stdout",
     "output_type": "stream",
     "text": [
      "['mozzerella', 'Cinderella', 'salmonella']\n",
      "['MOZZERELLA', 'Cinderella', 'salmonella']\n",
      "['MOZZERELLA', 'Cinderella']\n"
     ]
    }
   ],
   "source": [
    "things = [\"mozzerella\", \"cinderella\", \"salmonella\"]\n",
    "name = things[1]\n",
    "name = name.capitalize()\n",
    "things[1] = name\n",
    "print(things)\n",
    "cheese = things[0]\n",
    "cheese = cheese.upper()\n",
    "things[0] = cheese\n",
    "print(things)\n",
    "things.remove(\"salmonella\")\n",
    "print(things)"
   ]
  },
  {
   "cell_type": "code",
   "execution_count": 2,
   "id": "51614066",
   "metadata": {},
   "outputs": [
    {
     "data": {
      "text/plain": [
       "['Ron', 'Harry', 'Hermione']"
      ]
     },
     "execution_count": 2,
     "metadata": {},
     "output_type": "execute_result"
    }
   ],
   "source": [
    "def good():\n",
    "    list = ['Ron', 'Harry', 'Hermione']\n",
    "    return list\n",
    "good()"
   ]
  },
  {
   "cell_type": "code",
   "execution_count": 3,
   "id": "20ba4f91",
   "metadata": {},
   "outputs": [
    {
     "name": "stdout",
     "output_type": "stream",
     "text": [
      "5\n"
     ]
    }
   ],
   "source": [
    "def get_odds():\n",
    "    odds = []\n",
    "    for num in range(10):\n",
    "        if num % 2:\n",
    "            odds.append(num)\n",
    "    yield odds\n",
    "odd_list = get_odds()\n",
    "for odd in odd_list:\n",
    "    print(odd[2])"
   ]
  },
  {
   "cell_type": "code",
   "execution_count": null,
   "id": "9f48738c",
   "metadata": {},
   "outputs": [],
   "source": []
  }
 ],
 "metadata": {
  "kernelspec": {
   "display_name": "Python 3 (ipykernel)",
   "language": "python",
   "name": "python3"
  },
  "language_info": {
   "codemirror_mode": {
    "name": "ipython",
    "version": 3
   },
   "file_extension": ".py",
   "mimetype": "text/x-python",
   "name": "python",
   "nbconvert_exporter": "python",
   "pygments_lexer": "ipython3",
   "version": "3.9.13"
  }
 },
 "nbformat": 4,
 "nbformat_minor": 5
}
